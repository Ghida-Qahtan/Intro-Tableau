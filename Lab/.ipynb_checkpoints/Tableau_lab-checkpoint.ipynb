{
 "cells": [
  {
   "cell_type": "markdown",
   "metadata": {},
   "source": [
    "<img src=\"http://imgur.com/1ZcRyrc.png\" style=\"float: left; margin: 20px; height: 55px\">\n",
    "\n",
    "# Tableau Lab\n",
    "\n",
    "---"
   ]
  },
  {
   "cell_type": "markdown",
   "metadata": {},
   "source": [
    "Load the San Francisco crime dataset \"sf_crime_sample.csv\" in Tableau. \n",
    "- Note: Make each question in different sheet and rename to match the question number eq. Q1,Q2,,,etc\n",
    "\n",
    "##### Q1:\n",
    "1. Make the geographical data usable.\n",
    "    > Hint : Change the \"Geographic Role\" of **X** to \"Longitude\" and for **Y** to \"Latitude\"\n",
    "1. Filter datapoints which do not belong to the San Francisco area.\n",
    "\n",
    "##### Q2:\n",
    "1. Use the pages to produce a 'film' showing on a map sequentially when(Dates) and where(Pd District) a crime happened.\n",
    "\n",
    "#### Q3:\n",
    "\n",
    "1. Create a parameter which allows you to choose between Category, Pd District and Resolution.\n",
    "Create a calculated field from that parameter which you can use to change the colouring of the points on the map according to your parameter choice.\n",
    "    > Hint: Go back to the lecture under \"Calculated fields and parameters\" and see the \"CASE WHEN END\" part\n",
    "\n",
    "#### Q4:\n",
    "1. Create groups of crime categories of similar type.\n",
    "    > Hint: Under \"Dimensions\", right click on \"Category\" then \"Create\" then \"Group\". Group similar crimes under one group name of your choice.\n",
    "    \n",
    "#### Q5:\n",
    "1. Produce a stacked bars plot of crime category group (groups created from previous question) with count of category. Stack color by \"Resolution\" \n",
    "\n",
    "![image.png](.\\Q5.PNG)\n",
    "\n",
    "#### Q6:\n",
    "1. Produce a bar plot of \"Pd District\" with count of records of \"Pd District\". \n",
    "\n",
    "![image.png](.\\Q6.PNG)\n",
    "   "
   ]
  },
  {
   "cell_type": "markdown",
   "metadata": {},
   "source": [
    "### Save your work in Tableau Public and put your link of your published work in here:\n"
   ]
  },
  {
   "cell_type": "markdown",
   "metadata": {},
   "source": [
    "#### your link here: https://public.tableau.com/profile/gh.q#!/vizhome/TableaoLabSul_/Dashboard1?publish=yes\n"
   ]
  },
  {
   "cell_type": "markdown",
   "metadata": {},
   "source": [
    "Note: In order to see all the sheets that you have done published, do the following:\n",
    "        1. go to the public page that you published.\n",
    "        2. Go down on the web page and select \"Edit Details\"\n",
    "        3. Under \"Other Settings\", make check on \"Show workbook sheets as tabs\" then click \"save\"."
   ]
  }
 ],
 "metadata": {
  "anaconda-cloud": {},
  "kernelspec": {
   "display_name": "Python 3",
   "language": "python",
   "name": "python3"
  },
  "language_info": {
   "codemirror_mode": {
    "name": "ipython",
    "version": 3
   },
   "file_extension": ".py",
   "mimetype": "text/x-python",
   "name": "python",
   "nbconvert_exporter": "python",
   "pygments_lexer": "ipython3",
   "version": "3.7.4"
  },
  "toc": {
   "nav_menu": {},
   "number_sections": false,
   "sideBar": true,
   "skip_h1_title": true,
   "title_cell": "Table of Contents",
   "title_sidebar": "Contents",
   "toc_cell": false,
   "toc_position": {},
   "toc_section_display": "block",
   "toc_window_display": false
  }
 },
 "nbformat": 4,
 "nbformat_minor": 1
}
